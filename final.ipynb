{
 "cells": [
  {
   "cell_type": "markdown",
   "metadata": {},
   "source": [
    "WEB DESIGN:"
   ]
  },
  {
   "cell_type": "code",
   "execution_count": null,
   "metadata": {},
   "outputs": [],
   "source": []
  },
  {
   "cell_type": "markdown",
   "metadata": {},
   "source": [
    "Z TRANSFORM"
   ]
  },
  {
   "cell_type": "code",
   "execution_count": null,
   "metadata": {},
   "outputs": [],
   "source": [
    "import re\n",
    "import sympy as sp\n",
    "import ipdb; ipdb.set_trace()\n",
    "import scipy\n",
    "from scipy.integrate import quad\n",
    "import numpy as np\n",
    "import matplotlib.pyplot as plt"
   ]
  },
  {
   "cell_type": "code",
   "execution_count": null,
   "metadata": {},
   "outputs": [],
   "source": [
    "\n",
    "def z_transform_z_func(expr, n_expr):\n",
    "    z, m = sp.symbols('z m')\n",
    "    return sp.Sum(expr.subs(n_expr, m) * z**(-m), (m, 0, sp.oo))\n",
    "\n",
    "g = sp.symbols('g')\n",
    "str_exp = input(\"Enter function in terms of g: \")\n",
    "exp = sp.sympify(str_exp)\n",
    "z_transform = z_transform_z_func(exp, g).doit()\n",
    "\n",
    "print(\"The Z-transform of the function is:\")\n",
    "print(z_transform)\n"
   ]
  },
  {
   "cell_type": "markdown",
   "metadata": {},
   "source": [
    "GRAPH:"
   ]
  },
  {
   "cell_type": "code",
   "execution_count": null,
   "metadata": {},
   "outputs": [],
   "source": [
    "def z_transform_z_func(expr, n_expr):\n",
    "    z, m = sp.symbols('z m')\n",
    "    return sp.Sum(expr.subs(n_expr, m) * z**(-m), (m, 0, sp.oo))\n",
    "\n",
    "g = sp.symbols('g')\n",
    "str_exp = input(\"Enter function in terms of g: \")\n",
    "exp = sp.sympify(str_exp)\n",
    "z_transform = z_transform_z_func(exp, g).doit()\n",
    "\n",
    "print(\"The Z-transform of the function is:\")\n",
    "print(z_transform)\n",
    "\n",
    "\n",
    "z = sp.symbols('z')\n",
    "z_transform_func = sp.lambdify(z, z_transform, 'numpy')\n",
    "\n",
    "# Generate a range of values for |z| and theta\n",
    "z_real = np.linspace(-2, 2, 400)\n",
    "z_imag = np.linspace(-2, 2, 400)\n",
    "Z_real, Z_imag = np.meshgrid(z_real, z_imag)\n",
    "Z = Z_real + 1j * Z_imag\n",
    "\n",
    "# Evaluate the Z-transform over the grid\n",
    "Z_transform_values = z_transform_func(Z)\n",
    "\n",
    "# Plot magnitude\n",
    "plt.figure(figsize=(12, 6))\n",
    "\n",
    "plt.subplot(1, 2, 1)\n",
    "plt.contourf(Z_real, Z_imag, np.abs(Z_transform_values), levels=50, cmap='viridis')\n",
    "plt.colorbar()\n",
    "plt.title('Magnitude of Z-transform')\n",
    "plt.xlabel('Real part')\n",
    "plt.ylabel('Imaginary part')\n",
    "\n",
    "# Plot phase\n",
    "plt.subplot(1, 2, 2)\n",
    "plt.contourf(Z_real, Z_imag, np.angle(Z_transform_values), levels=50, cmap='twilight')\n",
    "plt.colorbar()\n",
    "plt.title('Phase of Z-transform')\n",
    "plt.xlabel('Real part')\n",
    "plt.ylabel('Imaginary part')\n",
    "\n",
    "plt.tight_layout()\n",
    "plt.show()"
   ]
  },
  {
   "cell_type": "markdown",
   "metadata": {},
   "source": [
    "INVERSE Z TRANSFORM"
   ]
  },
  {
   "cell_type": "code",
   "execution_count": null,
   "metadata": {},
   "outputs": [],
   "source": [
    "def inverse_Z_transform(expr, z_symbol=sp.symbols('z'), n_symbol=sp.symbols('n')):\n",
    "    expr = sp.simplify(expr)\n",
    "    f = sp.simplify(expr * z_symbol**(n_symbol-1))\n",
    "    numer, denom = f.as_numer_denom()\n",
    "    poles = sp.roots(denom, z_symbol)\n",
    "    inverse = 0\n",
    "    \n",
    "    assert len(poles) > 0, \"There must be at least one pole, or answer is just a delta Dirac\"\n",
    "    \"using residue theorm for calculation\"\n",
    "\n",
    "    for p, multiplicity in poles.items():\n",
    "        s = multiplicity\n",
    "        res = (z_symbol - p)**s * f\n",
    "        \n",
    "        for i in range(s - 1):\n",
    "            res = sp.diff(res, z_symbol)\n",
    "        \n",
    "        factorial_div = sp.Rational(1, sp.factorial(s - 1))\n",
    "        res = factorial_div * res\n",
    "        res = res.doit()\n",
    "        res = res.subs(z_symbol, p)\n",
    "        inverse += sp.simplify(res)\n",
    "    \n",
    "    return inverse\n",
    "\n",
    "# Test cases\n",
    "z = sp.symbols('z')\n",
    "v1 = (z**2 + z) / ((z - 1)**2)\n",
    "v2 = z / ((z + 1) * (z + 2))\n",
    "v3 = (z**2 + 2 * z) / (z**2 - 3 * z + 2)\n",
    "\n",
    "print(\"Inverse Z-transform of (z^2 + z) / ((z - 1)^2):\")\n",
    "print(inverse_Z_transform(v1))\n",
    "\n",
    "print(\"Inverse Z-transform of z / ((z + 1) * (z + 2)):\")\n",
    "print(inverse_Z_transform(v2))\n",
    "\n",
    "print(\"Inverse Z-transform of (z^2 + 2*z) / (z^2 - 3*z + 2):\")\n",
    "print(inverse_Z_transform(v3))\n"
   ]
  },
  {
   "cell_type": "markdown",
   "metadata": {},
   "source": [
    "CONTINUOUS FOURIER TRANSFORM"
   ]
  },
  {
   "cell_type": "code",
   "execution_count": null,
   "metadata": {},
   "outputs": [],
   "source": [
    "#example function for taking transform\n",
    "def x(t, k):\n",
    "    return np.exp(-k * t**2) * np.sin(k*t) * t**4\n",
    "\n",
    "def get_x_FT(x, f, k):\n",
    "    x_FT_integrand_real = lambda t: np.real(x(t, k)*np.exp(-2*np.pi*1j*f*t))\n",
    "    x_FT_integrand_comp = lambda t: np.imag(x(t, k)*np.exp(-2*np.pi*1j*f*t))\n",
    "    x_FT_real = quad(x_FT_integrand_real, -np.inf, np.inf)[0]\n",
    "    x_FT_comp = quad(x_FT_integrand_comp, -np.inf, np.inf)[0]\n",
    "    return x_FT_real + 1j*x_FT_comp\n"
   ]
  },
  {
   "cell_type": "markdown",
   "metadata": {},
   "source": [
    "GRAPH:"
   ]
  },
  {
   "cell_type": "code",
   "execution_count": null,
   "metadata": {},
   "outputs": [],
   "source": [
    "def x(t, k):\n",
    "    return np.exp(-k * t**2) * np.sin(k * t) * t**4\n",
    "\n",
    "def get_x_FT(x, f, k):\n",
    "    x_FT_integrand_real = lambda t: np.real(x(t, k) * np.exp(-2 * np.pi * 1j * f * t))\n",
    "    x_FT_integrand_comp = lambda t: np.imag(x(t, k) * np.exp(-2 * np.pi * 1j * f * t))\n",
    "    x_FT_real = quad(x_FT_integrand_real, -np.inf, np.inf)[0]\n",
    "    x_FT_comp = quad(x_FT_integrand_comp, -np.inf, np.inf)[0]\n",
    "    return x_FT_real + 1j * x_FT_comp\n",
    "\n",
    "# Define parameters\n",
    "k = 1\n",
    "frequencies = np.linspace(-10, 10, 400)\n",
    "\n",
    "# Compute the Fourier Transform for each frequency\n",
    "FT_values = np.array([get_x_FT(x, f, k) for f in frequencies])\n",
    "\n",
    "# Plot the magnitude and phase of the Fourier Transform\n",
    "plt.figure(figsize=(12, 6))\n",
    "\n",
    "plt.subplot(1, 2, 1)\n",
    "plt.plot(frequencies, np.abs(FT_values))\n",
    "plt.title('Magnitude of Fourier Transform')\n",
    "plt.xlabel('Frequency (Hz)')\n",
    "plt.ylabel('Magnitude')\n",
    "\n",
    "plt.subplot(1, 2, 2)\n",
    "plt.plot(frequencies, np.angle(FT_values))\n",
    "plt.title('Phase of Fourier Transform')\n",
    "plt.xlabel('Frequency (Hz)')\n",
    "plt.ylabel('Phase (radians)')\n",
    "\n",
    "plt.tight_layout()\n",
    "plt.show()\n"
   ]
  },
  {
   "cell_type": "markdown",
   "metadata": {},
   "source": [
    "DISCRETE FOURIER TRANSFORM"
   ]
  },
  {
   "cell_type": "code",
   "execution_count": null,
   "metadata": {},
   "outputs": [],
   "source": [
    "t = sp.symbols('t', real=True)\n",
    "k, n, T = sp.symbols('k, n, T', real=True, positive=True)\n",
    "fn = n/T\n",
    "x = sp.exp(-k * t)\n",
    "x\n",
    "x_FT = sp.integrate(1/T * x*sp.exp(-2*sp.pi*sp.I*fn*t), (t, 0, T)).simplify()\n",
    "x_FT\n",
    "sp.Abs(x_FT).simplify()"
   ]
  },
  {
   "cell_type": "markdown",
   "metadata": {},
   "source": [
    "GRAPH:"
   ]
  },
  {
   "cell_type": "code",
   "execution_count": null,
   "metadata": {},
   "outputs": [],
   "source": [
    "t = sp.symbols('t', real=True)\n",
    "k, n, T = sp.symbols('k n T', real=True, positive=True)\n",
    "fn = n / T\n",
    "\n",
    "# Define the function\n",
    "x = sp.exp(-k * t)\n",
    "\n",
    "# Compute the Fourier transform\n",
    "x_FT = sp.integrate(1 / T * x * sp.exp(-2 * sp.pi * sp.I * fn * t), (t, 0, T)).simplify()\n",
    "\n",
    "# Simplify the magnitude of the Fourier transform\n",
    "x_FT_magnitude = sp.Abs(x_FT).simplify()\n",
    "\n",
    "# Define parameters for numerical evaluation\n",
    "k_value = 1\n",
    "T_value = 1\n",
    "n_values = np.linspace(-10, 10, 400)\n",
    "fn_values = n_values / T_value\n",
    "\n",
    "# Convert symbolic expression to a numerical function\n",
    "x_FT_magnitude_func = sp.lambdify((n, k, T), x_FT_magnitude, 'numpy')\n",
    "\n",
    "# Evaluate the magnitude of the Fourier transform over the range of frequencies\n",
    "FT_magnitude_values = x_FT_magnitude_func(n_values, k_value, T_value)\n",
    "\n",
    "# Plot the magnitude of the Fourier transform\n",
    "plt.figure(figsize=(10, 5))\n",
    "plt.plot(fn_values, FT_magnitude_values, label='|X(f)|')\n",
    "plt.title('Magnitude of Fourier Transform')\n",
    "plt.xlabel('Frequency (Hz)')\n",
    "plt.ylabel('Magnitude')\n",
    "plt.grid(True)\n",
    "plt.legend()\n",
    "plt.show()"
   ]
  },
  {
   "cell_type": "markdown",
   "metadata": {},
   "source": [
    "INVERSE FOURIER TRANSFORM"
   ]
  },
  {
   "cell_type": "code",
   "execution_count": null,
   "metadata": {},
   "outputs": [],
   "source": [
    "def inverse_fourier_transform(expr, omega_symbol=sp.symbols('omega'), t_symbol=sp.symbols('t')):\n",
    "    expr = sp.simplify(expr)\n",
    "    f = sp.simplify(expr * sp.exp(sp.I * omega_symbol * t_symbol))\n",
    "    numer, denom = f.as_numer_denom()\n",
    "    poles = sp.roots(denom, omega_symbol)\n",
    "    inverse = 0\n",
    "    \n",
    "    assert len(poles) > 0, \"There must be at least one pole, or the answer is just a delta Dirac\"\n",
    "    \"we are using residue theorm\"\n",
    "    \n",
    "    for p, multiplicity in poles.items():\n",
    "        s = multiplicity\n",
    "        res = (omega_symbol - p)**s * f\n",
    "        \n",
    "        for i in range(s - 1):\n",
    "            res = sp.diff(res, omega_symbol)\n",
    "        \n",
    "        factorial_div = sp.Rational(1, sp.factorial(s - 1))\n",
    "        res = factorial_div * res\n",
    "        res = res.doit()\n",
    "        res = res.subs(omega_symbol, p)\n",
    "        inverse += sp.simplify(res)\n",
    "    \n",
    "    return inverse / (2 * sp.pi)\n",
    "\n",
    "# Test cases\n",
    "omega = sp.symbols('omega')\n",
    "f1 = 1 / (omega**2 + 1)\n",
    "f2 = 1 / (omega**2 + omega + 1)\n",
    "f3 = omega / (omega**2 + 2*omega + 2)\n",
    "\n",
    "print(\"Inverse Fourier transform of 1 / (omega^2 + 1):\")\n",
    "print(inverse_fourier_transform(f1))\n",
    "\n",
    "print(\"Inverse Fourier transform of 1 / (omega^2 + omega + 1):\")\n",
    "print(inverse_fourier_transform(f2))\n",
    "\n",
    "print(\"Inverse Fourier transform of omega / (omega^2 + 2*omega + 2):\")\n",
    "print(inverse_fourier_transform(f3))\n"
   ]
  },
  {
   "cell_type": "markdown",
   "metadata": {},
   "source": [
    "LAPLACE TRANSFORM"
   ]
  },
  {
   "cell_type": "code",
   "execution_count": null,
   "metadata": {},
   "outputs": [],
   "source": [
    "def laplace_transform_l_func(expr, t_expr):\n",
    "    t, s = sp.symbols('t s')\n",
    "    integrand = expr.subs(t_expr, t) * sp.exp(-s * t)\n",
    "    return sp.integrate(integrand, (t, 0, sp.oo))\n",
    "\n",
    "f = sp.symbols('f')\n",
    "str_exp = input(\"Enter function in terms of f: \")\n",
    "exp = sp.sympify(str_exp)\n",
    "laplace_transform = laplace_transform_l_func(exp, f)\n",
    "\n",
    "print(laplace_transform)\n"
   ]
  },
  {
   "cell_type": "markdown",
   "metadata": {},
   "source": [
    "GRAPH:"
   ]
  },
  {
   "cell_type": "code",
   "execution_count": null,
   "metadata": {},
   "outputs": [],
   "source": [
    "def laplace_transform_l_func(expr, t_expr):\n",
    "    t, s = sp.symbols('t s')\n",
    "    integrand = expr.subs(t_expr, t) * sp.exp(-s * t)\n",
    "    return sp.integrate(integrand, (t, 0, sp.oo))\n",
    "\n",
    "# Get user input\n",
    "f = sp.symbols('f')\n",
    "str_exp = input(\"Enter function in terms of f: \")\n",
    "exp = sp.sympify(str_exp)\n",
    "\n",
    "# Compute the Laplace transform\n",
    "laplace_transform = laplace_transform_l_func(exp, f)\n",
    "\n",
    "print(\"Laplace Transform:\")\n",
    "print(laplace_transform)\n",
    "\n",
    "# Convert the symbolic expression to a numerical function\n",
    "s = sp.symbols('s')\n",
    "laplace_transform_func = sp.lambdify(s, laplace_transform, 'numpy')\n",
    "\n",
    "# Define a range of values for the complex variable s = sigma + j*omega\n",
    "sigma_vals = np.linspace(-10, 10, 400)\n",
    "omega_vals = np.linspace(-10, 10, 400)\n",
    "sigma, omega = np.meshgrid(sigma_vals, omega_vals)\n",
    "s_vals = sigma + 1j * omega\n",
    "\n",
    "# Evaluate the Laplace transform over the range of s values\n",
    "laplace_transform_values = laplace_transform_func(s_vals)\n",
    "\n",
    "# Plot the magnitude and phase of the Laplace transform\n",
    "plt.figure(figsize=(12, 6))\n",
    "\n",
    "# Plot magnitude\n",
    "plt.subplot(1, 2, 1)\n",
    "plt.contourf(sigma, omega, np.abs(laplace_transform_values), levels=50, cmap='viridis')\n",
    "plt.colorbar()\n",
    "plt.title('Magnitude of Laplace Transform')\n",
    "plt.xlabel('Real part (sigma)')\n",
    "plt.ylabel('Imaginary part (omega)')\n",
    "\n",
    "# Plot phase\n",
    "plt.subplot(1, 2, 2)\n",
    "plt.contourf(sigma, omega, np.angle(laplace_transform_values), levels=50, cmap='twilight')\n",
    "plt.colorbar()\n",
    "plt.title('Phase of Laplace Transform')\n",
    "plt.xlabel('Real part (sigma)')\n",
    "plt.ylabel('Imaginary part (omega)')\n",
    "\n",
    "plt.tight_layout()\n",
    "plt.show()\n"
   ]
  },
  {
   "cell_type": "markdown",
   "metadata": {},
   "source": [
    "INVERSE LAPLACE TRANSFORM"
   ]
  },
  {
   "cell_type": "code",
   "execution_count": null,
   "metadata": {},
   "outputs": [],
   "source": [
    "def inverse_laplace_transform(expr, s_symbol=sp.symbols('s'), t_symbol=sp.symbols('t')):\n",
    "    expr = sp.simplify(expr)\n",
    "    f = sp.simplify(expr * sp.exp(s_symbol * t_symbol))\n",
    "    numer, denom = f.as_numer_denom()\n",
    "    poles = sp.roots(denom, s_symbol)\n",
    "    inverse = 0\n",
    "    \n",
    "    assert len(poles) > 0, \"There must be at least one pole, or the answer is just a delta Dirac\"\n",
    "\n",
    "    \"using residue theorm for calculation\"\n",
    "\n",
    "    for p, multiplicity in poles.items():\n",
    "        s = multiplicity\n",
    "        res = (s_symbol - p)**s * f\n",
    "\n",
    "        for i in range(s - 1):\n",
    "            res = sp.diff(res, s_symbol)\n",
    "\n",
    "        factorial_div = sp.Rational(1, sp.factorial(s - 1))\n",
    "        res = factorial_div * res\n",
    "        res = res.doit()\n",
    "        res = res.subs(s_symbol, p)\n",
    "        inverse += sp.simplify(res)\n",
    "    \n",
    "    return inverse\n",
    "\n",
    "# Test cases\n",
    "s = sp.symbols('s')\n",
    "f1 = 1 / (s + 1)\n",
    "f2 = 1 / (s**2 + s + 1)\n",
    "f3 = s / (s**2 + 2*s + 2)\n",
    "\n",
    "print(\"Inverse Laplace transform of 1 / (s + 1):\")\n",
    "print(inverse_laplace_transform(f1))\n",
    "\n",
    "print(\"Inverse Laplace transform of 1 / (s^2 + s + 1):\")\n",
    "print(inverse_laplace_transform(f2))\n",
    "\n",
    "print(\"Inverse Laplace transform of s / (s^2 + 2*s + 2):\")\n",
    "print(inverse_laplace_transform(f3))\n"
   ]
  }
 ],
 "metadata": {
  "language_info": {
   "name": "python"
  }
 },
 "nbformat": 4,
 "nbformat_minor": 2
}
